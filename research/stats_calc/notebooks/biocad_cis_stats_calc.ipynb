{
  "nbformat": 4,
  "nbformat_minor": 0,
  "metadata": {
    "colab": {
      "provenance": []
    },
    "kernelspec": {
      "name": "python3",
      "display_name": "Python 3"
    },
    "language_info": {
      "name": "python"
    }
  },
  "cells": [
    {
      "cell_type": "code",
      "execution_count": 1,
      "metadata": {
        "id": "Z18c36cf0E9Y"
      },
      "outputs": [],
      "source": [
        "import cv2"
      ]
    },
    {
      "cell_type": "code",
      "source": [
        "img = cv2.imread(\"/content/TCGA-A1-A0SK-DX1_xmin45749_ymin25055_MPP-0_1344_1568_size224.png\", cv2.IMREAD_GRAYSCALE)"
      ],
      "metadata": {
        "id": "ABDvQD2t2yny"
      },
      "execution_count": 4,
      "outputs": []
    },
    {
      "cell_type": "code",
      "source": [
        "img.shape"
      ],
      "metadata": {
        "colab": {
          "base_uri": "https://localhost:8080/"
        },
        "id": "ByManKvB22qH",
        "outputId": "400c5e68-05ab-4b34-904a-122052bc2a93"
      },
      "execution_count": 5,
      "outputs": [
        {
          "output_type": "execute_result",
          "data": {
            "text/plain": [
              "(224, 224)"
            ]
          },
          "metadata": {},
          "execution_count": 5
        }
      ]
    },
    {
      "cell_type": "code",
      "source": [
        "from collections import defaultdict"
      ],
      "metadata": {
        "id": "qiJt6ad_233O"
      },
      "execution_count": 6,
      "outputs": []
    },
    {
      "cell_type": "code",
      "source": [
        "from scipy.ndimage import label"
      ],
      "metadata": {
        "id": "GxUpA6OE3IA8"
      },
      "execution_count": 7,
      "outputs": []
    },
    {
      "cell_type": "code",
      "source": [
        "import numpy as np"
      ],
      "metadata": {
        "id": "2hQP5SFA4bhy"
      },
      "execution_count": 8,
      "outputs": []
    },
    {
      "cell_type": "code",
      "source": [
        "classes = defaultdict(lambda: {\"counts\": 0, \"surface\": 0})"
      ],
      "metadata": {
        "id": "Tz4CiKhn4nir"
      },
      "execution_count": 20,
      "outputs": []
    },
    {
      "cell_type": "code",
      "source": [
        "for cl, s in zip(*np.unique(img, return_counts=True)):\n",
        "    classes[cl][\"surface\"] = s"
      ],
      "metadata": {
        "id": "sOj89FT664TI"
      },
      "execution_count": 21,
      "outputs": []
    },
    {
      "cell_type": "code",
      "source": [
        "for cl in classes.keys():\n",
        "    mask = np.zeros(img.shape)\n",
        "    mask[img == cl] = 1\n",
        "    _, num_objects = label(mask)\n",
        "    classes[cl][\"counts\"] = num_objects"
      ],
      "metadata": {
        "id": "P1XxqPbL5acr"
      },
      "execution_count": 24,
      "outputs": []
    },
    {
      "cell_type": "code",
      "source": [
        "classes"
      ],
      "metadata": {
        "colab": {
          "base_uri": "https://localhost:8080/"
        },
        "id": "yq9eNlID8GT_",
        "outputId": "cdfdf370-4dc7-4b28-dc94-cfe2acdf60af"
      },
      "execution_count": 25,
      "outputs": [
        {
          "output_type": "execute_result",
          "data": {
            "text/plain": [
              "defaultdict(<function __main__.<lambda>()>,\n",
              "            {0: {'counts': 2, 'surface': 14567},\n",
              "             1: {'counts': 2, 'surface': 6653},\n",
              "             2: {'counts': 1, 'surface': 28956}})"
            ]
          },
          "metadata": {},
          "execution_count": 25
        }
      ]
    },
    {
      "cell_type": "code",
      "source": [
        "def calc_image(image_path):\n",
        "    img = cv2.imread(image_path, cv2.IMREAD_GRAYSCALE)\n",
        "    classes = defaultdict(lambda: {\"counts\": 0, \"surface\": 0})\n",
        "\n",
        "    for cl, s in zip(*np.unique(img, return_counts=True)):\n",
        "        classes[int(cl)][\"surface\"] = int(s)\n",
        "\n",
        "    for cl in classes.keys():\n",
        "        mask = np.zeros(img.shape)\n",
        "        mask[img == cl] = 1\n",
        "        _, num_objects = label(mask)\n",
        "        classes[int(cl)][\"counts\"] = int(num_objects)\n",
        "\n",
        "    return dict(classes)"
      ],
      "metadata": {
        "id": "shICq5I48aVx"
      },
      "execution_count": 58,
      "outputs": []
    },
    {
      "cell_type": "code",
      "source": [
        "images = [\"/content/TCGA-A1-A0SK-DX1_xmin45749_ymin25055_MPP-0_1344_1568_size224.png\",\n",
        "          \"/content/TCGA-A1-A0SK-DX1_xmin45749_ymin25055_MPP-0_1120_3136_size224.png\"] * 100"
      ],
      "metadata": {
        "id": "OT_ncbT99aGE"
      },
      "execution_count": 59,
      "outputs": []
    },
    {
      "cell_type": "code",
      "source": [
        "import json"
      ],
      "metadata": {
        "id": "YklAq2_xAfGK"
      },
      "execution_count": 60,
      "outputs": []
    },
    {
      "cell_type": "code",
      "source": [
        "def calc_images(images, file=None):\n",
        "    result = []\n",
        "    for p in images:\n",
        "        result.append({\"path\": p, \"classes\": calc_image(p)})\n",
        "\n",
        "    data = {\"images\": result}\n",
        "\n",
        "    if file is not None:\n",
        "        with open(file, \"w\") as f:\n",
        "            json.dump(data, f, indent=2)\n",
        "\n",
        "    return data"
      ],
      "metadata": {
        "id": "HTC7Um1I-Dvn"
      },
      "execution_count": 63,
      "outputs": []
    },
    {
      "cell_type": "code",
      "source": [
        "%time res = calc_images(images, file=\"/content/data.json\")"
      ],
      "metadata": {
        "colab": {
          "base_uri": "https://localhost:8080/"
        },
        "id": "E_oHpfu4-ua5",
        "outputId": "7f105157-87ea-481c-8a0a-f44ad35d72ae"
      },
      "execution_count": 64,
      "outputs": [
        {
          "output_type": "stream",
          "name": "stdout",
          "text": [
            "CPU times: user 520 ms, sys: 1.39 ms, total: 521 ms\n",
            "Wall time: 522 ms\n"
          ]
        }
      ]
    },
    {
      "cell_type": "code",
      "source": [
        "%%writefile \"/content/image_process.py\"\n",
        "\n",
        "import cv2\n",
        "from collections import defaultdict\n",
        "import numpy as np\n",
        "from scipy.ndimage import label\n",
        "import json\n",
        "\n",
        "\n",
        "def calc_image(image_path):\n",
        "    img = cv2.imread(image_path, cv2.IMREAD_GRAYSCALE)\n",
        "    classes = defaultdict(lambda: {\"counts\": 0, \"surface\": 0})\n",
        "\n",
        "    for cl, s in zip(*np.unique(img, return_counts=True)):\n",
        "        classes[cl][\"surface\"] = s\n",
        "\n",
        "    for cl in classes.keys():\n",
        "        mask = np.zeros(img.shape)\n",
        "        mask[img == cl] = 1\n",
        "        _, num_objects = label(mask)\n",
        "        classes[cl][\"counts\"] = num_objects\n",
        "\n",
        "    return dict(classes)\n",
        "\n",
        "\n",
        "def calc_images(images, file=None):\n",
        "    result = []\n",
        "    for p in images:\n",
        "        result.append({\"path\": p, \"classes\": calc_image(p)})\n",
        "\n",
        "    data = {\"images\": result}\n",
        "\n",
        "    if file is not None:\n",
        "        with open(file, \"w\") as f:\n",
        "            json.dump(data, f, indent=2)\n",
        "\n",
        "    return data"
      ],
      "metadata": {
        "colab": {
          "base_uri": "https://localhost:8080/"
        },
        "id": "m28LXOsJ_nIi",
        "outputId": "d3978090-0075-4287-83f5-31eae14ee347"
      },
      "execution_count": 65,
      "outputs": [
        {
          "output_type": "stream",
          "name": "stdout",
          "text": [
            "Writing /content/image_process.py\n"
          ]
        }
      ]
    }
  ]
}