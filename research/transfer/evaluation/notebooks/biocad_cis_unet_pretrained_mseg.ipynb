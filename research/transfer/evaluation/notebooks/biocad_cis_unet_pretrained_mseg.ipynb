{
  "cells": [
    {
      "cell_type": "markdown",
      "metadata": {
        "id": "EkvBcwolKfq5"
      },
      "source": [
        "# Imports"
      ]
    },
    {
      "cell_type": "code",
      "execution_count": null,
      "metadata": {
        "id": "THYZaOJdKLpY"
      },
      "outputs": [],
      "source": [
        "%%capture\n",
        "!pip install segmentation-models-pytorch\n",
        "!pip install torchinfo"
      ]
    },
    {
      "cell_type": "code",
      "execution_count": null,
      "metadata": {
        "id": "ImlMEAGxKLpZ"
      },
      "outputs": [],
      "source": [
        "# Data handling\n",
        "import pandas as pd\n",
        "import numpy as np\n",
        "\n",
        "# Data visualization\n",
        "import matplotlib.pyplot as plt\n",
        "import seaborn as sns\n",
        "from PIL import Image\n",
        "import cv2\n",
        "\n",
        "# Torch\n",
        "import torch\n",
        "from torch import nn, optim\n",
        "from torch.utils.data import Dataset, DataLoader\n",
        "from torchvision import transforms\n",
        "import segmentation_models_pytorch as smp\n",
        "from torchinfo import summary\n",
        "\n",
        "# os\n",
        "import os\n",
        "\n",
        "# Path\n",
        "from pathlib import Path\n",
        "\n",
        "# tqdm\n",
        "from tqdm.auto import tqdm\n",
        "\n",
        "# warnings\n",
        "import warnings\n",
        "warnings.filterwarnings(\"ignore\")\n",
        "\n",
        "import random as rnd\n",
        "\n",
        "import shutil\n",
        "\n",
        "from glob import iglob, glob\n",
        "from itertools import chain"
      ]
    },
    {
      "cell_type": "code",
      "execution_count": null,
      "metadata": {
        "id": "EUmFJTYw8u6f"
      },
      "outputs": [],
      "source": [
        "BATCH_SIZE = 64\n",
        "NUM_WORKERS = os.cpu_count()\n",
        "\n",
        "# Num of samples, that will be used for train out model\n",
        "K_SAMPLES_TRAIN = 5\n",
        "\n",
        "NUM_CLASSES = 2\n",
        "\n",
        "# CUDA\n",
        "DEVICE = \"cuda\" if torch.cuda.is_available() else \"cpu\""
      ]
    },
    {
      "cell_type": "markdown",
      "source": [
        "# Dataloaders"
      ],
      "metadata": {
        "id": "gDxGQFrLvBRU"
      }
    },
    {
      "cell_type": "markdown",
      "source": [
        "## Download Malaria"
      ],
      "metadata": {
        "id": "RaLP4Zx_2uck"
      }
    },
    {
      "cell_type": "code",
      "source": [
        "!wget \"https://prod-dcd-datasets-cache-zipfiles.s3.eu-west-1.amazonaws.com/5bf2kmwvfn-1.zip\" -O MSeg.zip"
      ],
      "metadata": {
        "id": "lGUgMFYg2_Ex"
      },
      "execution_count": null,
      "outputs": []
    },
    {
      "cell_type": "code",
      "source": [
        "!mkdir /content/mseg"
      ],
      "metadata": {
        "id": "B95L5wnc2_E9"
      },
      "execution_count": null,
      "outputs": []
    },
    {
      "cell_type": "code",
      "source": [
        "!unzip /content/MSeg.zip -d /content/mseg/"
      ],
      "metadata": {
        "id": "1trzUMru2_E-"
      },
      "execution_count": null,
      "outputs": []
    },
    {
      "cell_type": "code",
      "source": [
        "!rm /content/MSeg.zip"
      ],
      "metadata": {
        "id": "qDatQkbL2_E-"
      },
      "execution_count": null,
      "outputs": []
    },
    {
      "cell_type": "markdown",
      "source": [
        "## Defining train for meta-test"
      ],
      "metadata": {
        "id": "0qCES1-2CrXD"
      }
    },
    {
      "cell_type": "code",
      "source": [
        "def get_mseg_train():\n",
        "    global K_SAMPLES_TRAIN\n",
        "\n",
        "    rnd.seed(102)\n",
        "\n",
        "    train_images = rnd.sample(glob(\"/content/mseg/Giemsa stained images/*.png\"), k=K_SAMPLES_TRAIN)\n",
        "    train_masks = [\n",
        "        path for path in iglob(\"/content/mseg/Ground truth images/*.png\")\n",
        "        if path.replace(\"/content/mseg/Ground truth images/\", \"/content/mseg/Giemsa stained images/\").replace(\"_GT.png\", \".png\") in train_images\n",
        "    ]\n",
        "\n",
        "    return train_images + train_masks"
      ],
      "metadata": {
        "id": "OO58IyBQHFNi"
      },
      "execution_count": null,
      "outputs": []
    },
    {
      "cell_type": "code",
      "source": [
        "!mkdir -p /content/mseg/train/images\n",
        "!mkdir -p /content/mseg/train/masks\n",
        "\n",
        "!mkdir -p /content/mseg/test/images\n",
        "!mkdir -p /content/mseg/test/masks"
      ],
      "metadata": {
        "id": "TVhOhQw8J9d3"
      },
      "execution_count": null,
      "outputs": []
    },
    {
      "cell_type": "code",
      "source": [
        "train_files = get_mseg_train()\n",
        "\n",
        "for p in iglob(\"/content/mseg/Giemsa stained images/*.png\"):\n",
        "    if p in train_files:\n",
        "        shutil.move(p, p.replace(\"/content/mseg/Giemsa stained images/\", \"/content/mseg/train/images/\"))\n",
        "    else:\n",
        "        shutil.move(p, p.replace(\"/content/mseg/Giemsa stained images/\", \"/content/mseg/test/images/\"))\n",
        "\n",
        "\n",
        "for p in iglob(\"/content/mseg/Ground truth images/*.png\"):\n",
        "    if p in train_files:\n",
        "        shutil.move(p, p.replace(\"/content/mseg/Ground truth images/\", \"/content/mseg/train/masks/\"))\n",
        "    else:\n",
        "        shutil.move(p, p.replace(\"/content/mseg/Ground truth images/\", \"/content/mseg/test/masks/\"))"
      ],
      "metadata": {
        "id": "83eXr7Z3JEQj"
      },
      "execution_count": null,
      "outputs": []
    },
    {
      "cell_type": "code",
      "source": [
        "!rm -rf \"/content/mseg/Giemsa stained images/\"\n",
        "!rm -rf \"/content/mseg/Ground truth images/\""
      ],
      "metadata": {
        "id": "hLxVMzmfJL00"
      },
      "execution_count": null,
      "outputs": []
    },
    {
      "cell_type": "markdown",
      "metadata": {
        "id": "ifRrOBKJKLpa"
      },
      "source": [
        "# Data prepare"
      ]
    },
    {
      "cell_type": "code",
      "source": [
        "for p in Path(\"/content/mseg/train/masks\").glob(\"*.png\"):\n",
        "    img = cv2.imread(str(p), cv2.IMREAD_GRAYSCALE)\n",
        "    bin_mask = np.zeros(img.shape)\n",
        "    bin_mask[img != 0] = 1\n",
        "    cv2.imwrite(str(p), bin_mask)"
      ],
      "metadata": {
        "id": "f0V9PAtilKch"
      },
      "execution_count": null,
      "outputs": []
    },
    {
      "cell_type": "code",
      "source": [
        "for p in Path(\"/content/mseg/test/masks\").glob(\"*.png\"):\n",
        "    img = cv2.imread(str(p), cv2.IMREAD_GRAYSCALE)\n",
        "    bin_mask = np.zeros(img.shape)\n",
        "    bin_mask[img != 0] = 1\n",
        "    cv2.imwrite(str(p), bin_mask)"
      ],
      "metadata": {
        "id": "mDnI_vNOmF9I"
      },
      "execution_count": null,
      "outputs": []
    },
    {
      "cell_type": "markdown",
      "metadata": {
        "id": "ORaDP1akUXey"
      },
      "source": [
        "# Utils"
      ]
    },
    {
      "cell_type": "markdown",
      "source": [
        "## Data"
      ],
      "metadata": {
        "id": "RosMf4a4Roe4"
      }
    },
    {
      "cell_type": "code",
      "source": [
        "def image_mask_path(image_path: str, mask_path: str):\n",
        "    IMAGE_PATH = Path(image_path)\n",
        "    IMAGE_PATH_LIST = sorted(list(IMAGE_PATH.glob(\"*.png\")))\n",
        "\n",
        "    MASK_PATH = Path(mask_path)\n",
        "    MASK_PATH_LIST = sorted(list(MASK_PATH.glob(\"*.png\")))\n",
        "\n",
        "    return IMAGE_PATH_LIST, MASK_PATH_LIST"
      ],
      "metadata": {
        "id": "IEL3o3HwR5iX"
      },
      "execution_count": null,
      "outputs": []
    },
    {
      "cell_type": "code",
      "source": [
        "def count_unique(mask_path_list):\n",
        "    VALUES_UNIQUE_TRAIN = []\n",
        "\n",
        "    for i in mask_path_list:\n",
        "        sample = cv2.imread(str(i), cv2.IMREAD_GRAYSCALE)\n",
        "        uniques = np.unique(sample)\n",
        "        VALUES_UNIQUE_TRAIN.append(uniques)\n",
        "\n",
        "    FINAL_VALUES_UNIQUE_TRAIN = np.concatenate(VALUES_UNIQUE_TRAIN)\n",
        "\n",
        "    return np.unique(FINAL_VALUES_UNIQUE_TRAIN)"
      ],
      "metadata": {
        "id": "Hh8V5blGRuxk"
      },
      "execution_count": null,
      "outputs": []
    },
    {
      "cell_type": "code",
      "execution_count": null,
      "metadata": {
        "id": "QB4x6pO8UXfB"
      },
      "outputs": [],
      "source": [
        "class CustomImageMaskDataset(Dataset):\n",
        "    def __init__(self, data:pd.DataFrame, image_transforms, mask_transforms):\n",
        "        self.data = data\n",
        "        self.image_transforms = image_transforms\n",
        "        self.mask_transforms = mask_transforms\n",
        "\n",
        "    def __len__(self):\n",
        "        return len(self.data)\n",
        "\n",
        "    def __getitem__(self, idx):\n",
        "        image_path = self.data.iloc[idx, 0]\n",
        "        image = Image.open(image_path).convert(\"RGB\")\n",
        "\n",
        "        state = torch.get_rng_state()\n",
        "        image = self.image_transforms(image)\n",
        "\n",
        "        mask_path = self.data.iloc[idx, 1]\n",
        "        mask = Image.open(mask_path)\n",
        "\n",
        "        torch.set_rng_state(state)\n",
        "        mask = self.mask_transforms(mask)\n",
        "\n",
        "        return image, mask"
      ]
    },
    {
      "cell_type": "code",
      "execution_count": null,
      "metadata": {
        "id": "edz_QRDJUXfB"
      },
      "outputs": [],
      "source": [
        "class CustomTestDataset(Dataset):\n",
        "    def __init__(self, data:pd.DataFrame, image_transforms):\n",
        "        self.data = data\n",
        "        self.image_transforms = image_transforms\n",
        "\n",
        "    def __len__(self):\n",
        "        return len(self.data)\n",
        "\n",
        "    def __getitem__(self, idx):\n",
        "        image_path = self.data.iloc[idx, 0]\n",
        "        image = Image.open(image_path).convert(\"RGB\")\n",
        "        image = self.image_transforms(image)\n",
        "\n",
        "        return image"
      ]
    },
    {
      "cell_type": "markdown",
      "source": [
        "## Train"
      ],
      "metadata": {
        "id": "7tSKPxkrRkOv"
      }
    },
    {
      "cell_type": "code",
      "execution_count": null,
      "metadata": {
        "id": "qRGX4c_HUXfC"
      },
      "outputs": [],
      "source": [
        "def train_step(model:torch.nn.Module, dataloader:torch.utils.data.DataLoader,\n",
        "               loss_fn:torch.nn.Module, optimizer:torch.optim.Optimizer):\n",
        "\n",
        "    model.train()\n",
        "\n",
        "    train_loss = 0.\n",
        "    train_dice = 0.\n",
        "\n",
        "    for batch, (X,y) in enumerate(dataloader):\n",
        "        X = X.to(device = DEVICE, dtype = torch.float32)\n",
        "        y = y.to(device = DEVICE, dtype = torch.long)\n",
        "        optimizer.zero_grad()\n",
        "        logit_mask = model(X)\n",
        "        loss = loss_fn(logit_mask, y.squeeze())\n",
        "        train_loss += loss.item()\n",
        "\n",
        "        loss.backward()\n",
        "        optimizer.step()\n",
        "\n",
        "        prob_mask = logit_mask.softmax(dim = 1)\n",
        "        pred_mask = prob_mask.argmax(dim = 1)\n",
        "\n",
        "        tp,fp,fn,tn = smp.metrics.get_stats(output = pred_mask.detach().cpu().long(),\n",
        "                                            target = y.squeeze().cpu().long(),\n",
        "                                            mode = \"multiclass\",\n",
        "                                            num_classes = 21)\n",
        "\n",
        "        train_dice += smp.metrics.f1_score(tp, fp, fn, tn, reduction = \"micro\").numpy()\n",
        "\n",
        "    train_loss = train_loss / len(dataloader)\n",
        "    train_dice = train_dice / len(dataloader)\n",
        "\n",
        "    return train_loss, train_dice"
      ]
    },
    {
      "cell_type": "code",
      "execution_count": null,
      "metadata": {
        "id": "od0_WLPjUXfD"
      },
      "outputs": [],
      "source": [
        "def train(model:torch.nn.Module, train_dataloader:torch.utils.data.DataLoader,\n",
        "          loss_fn:torch.nn.Module,\n",
        "          optimizer:torch.optim.Optimizer, epochs:int = 10):\n",
        "\n",
        "    results = {'train_loss':[], 'train_dice':[]}\n",
        "\n",
        "    for epoch in tqdm(range(epochs)):\n",
        "        train_loss, train_dice = train_step(model = model,\n",
        "                                           dataloader = train_dataloader,\n",
        "                                           loss_fn = loss_fn,\n",
        "                                           optimizer = optimizer)\n",
        "\n",
        "        print(f'Epoch: {epoch + 1} | ',\n",
        "              f'Train Loss: {train_loss:.4f} | ',\n",
        "              f'Train Dice: {train_dice:.4f}')\n",
        "\n",
        "        results['train_loss'].append(train_loss)\n",
        "        results['train_dice'].append(train_dice)\n",
        "\n",
        "    return results"
      ]
    },
    {
      "cell_type": "markdown",
      "source": [
        "## Prediction"
      ],
      "metadata": {
        "id": "ZHN7530xRl7h"
      }
    },
    {
      "cell_type": "code",
      "source": [
        "def predictions_mask(model, test_dataloader: torch.utils.data.DataLoader):\n",
        "    model.eval()\n",
        "\n",
        "    y_pred_mask = []\n",
        "\n",
        "    with torch.inference_mode():\n",
        "        for batch,X in enumerate(test_dataloader):\n",
        "            X = X.to(device = DEVICE, dtype = torch.float32)\n",
        "            mask_logit = model(X)\n",
        "            mask_prob = mask_logit.softmax(dim = 1)\n",
        "            mask_pred = mask_prob.argmax(dim = 1)\n",
        "            y_pred_mask.append(mask_pred.detach().cpu())\n",
        "\n",
        "    y_pred_mask = torch.cat(y_pred_mask)\n",
        "\n",
        "    return y_pred_mask"
      ],
      "metadata": {
        "id": "qRXl7MSmQBAg"
      },
      "execution_count": null,
      "outputs": []
    },
    {
      "cell_type": "markdown",
      "source": [
        "# Augmentations"
      ],
      "metadata": {
        "id": "bPTeHAb3ORVZ"
      }
    },
    {
      "cell_type": "code",
      "execution_count": null,
      "metadata": {
        "id": "z9xX6TCVKLpf"
      },
      "outputs": [],
      "source": [
        "MEAN = [0.485, 0.456, 0.406]\n",
        "STD = [0.229, 0.224, 0.225]\n",
        "\n",
        "image_transforms = transforms.Compose([\n",
        "                                       transforms.RandomHorizontalFlip(),\n",
        "                                       transforms.RandomVerticalFlip(),\n",
        "                                       transforms.RandomResizedCrop((224, 224), antialias=True),\n",
        "                                       transforms.ToTensor(),\n",
        "                                       transforms.Normalize(mean = MEAN, std = STD),\n",
        "                                       ])\n",
        "\n",
        "mask_transforms = transforms.Compose([\n",
        "                                      transforms.RandomHorizontalFlip(),\n",
        "                                      transforms.RandomVerticalFlip(),\n",
        "                                      transforms.RandomResizedCrop((224, 224), antialias=True),\n",
        "                                      transforms.PILToTensor(),\n",
        "                                    ])\n",
        "\n",
        "image_transforms_test = transforms.Compose([\n",
        "                                       transforms.Resize((224, 224), antialias=True),\n",
        "                                       transforms.ToTensor(),\n",
        "                                       transforms.Normalize(mean = MEAN, std = STD),\n",
        "                                       ])\n",
        "\n",
        "mask_transforms_test = transforms.Compose([\n",
        "                                      transforms.Resize((224, 224), antialias=True),\n",
        "                                      transforms.PILToTensor(),\n",
        "                                    ])"
      ]
    },
    {
      "cell_type": "markdown",
      "metadata": {
        "id": "63HxibI2X34A"
      },
      "source": [
        "# Data load"
      ]
    },
    {
      "cell_type": "code",
      "execution_count": null,
      "metadata": {
        "id": "9bNAghczKLpb"
      },
      "outputs": [],
      "source": [
        "image_path_train = \"/content/mseg/train/images\"\n",
        "mask_path_train = \"/content/mseg/train/masks\"\n",
        "\n",
        "IMAGE_PATH_LIST_TRAIN, MASK_PATH_LIST_TRAIN = image_mask_path(image_path_train,\n",
        "                                                              mask_path_train)\n",
        "\n",
        "print(f'Total Images Train: {len(IMAGE_PATH_LIST_TRAIN)}')\n",
        "print(f'Total Masks Train: {len(MASK_PATH_LIST_TRAIN)}')"
      ]
    },
    {
      "cell_type": "code",
      "execution_count": null,
      "metadata": {
        "id": "Dt49Ew9dKLpc"
      },
      "outputs": [],
      "source": [
        "print(\"Unique values Train:\")\n",
        "print(count_unique(MASK_PATH_LIST_TRAIN))"
      ]
    },
    {
      "cell_type": "markdown",
      "metadata": {
        "id": "htzXykYEKLpe"
      },
      "source": [
        "# Preprocessing"
      ]
    },
    {
      "cell_type": "code",
      "execution_count": null,
      "metadata": {
        "id": "qXwS_LvOKLpe"
      },
      "outputs": [],
      "source": [
        "data_train = pd.DataFrame({'Image': IMAGE_PATH_LIST_TRAIN, 'Mask': MASK_PATH_LIST_TRAIN})"
      ]
    },
    {
      "cell_type": "code",
      "execution_count": null,
      "metadata": {
        "id": "XwcPy9B1KLpg"
      },
      "outputs": [],
      "source": [
        "train_dataset = CustomImageMaskDataset(data_train, image_transforms, mask_transforms)"
      ]
    },
    {
      "cell_type": "code",
      "execution_count": null,
      "metadata": {
        "id": "kj9yD3hTKLpg"
      },
      "outputs": [],
      "source": [
        "train_dataloader = DataLoader(dataset = train_dataset, batch_size = BATCH_SIZE,\n",
        "                              shuffle = True, num_workers = NUM_WORKERS)"
      ]
    },
    {
      "cell_type": "code",
      "execution_count": null,
      "metadata": {
        "id": "BXk3VONzKLpg"
      },
      "outputs": [],
      "source": [
        "# We visualize the dimensions of a batch.\n",
        "batch_images, batch_masks = next(iter(train_dataloader))\n",
        "\n",
        "batch_images.shape, batch_masks.shape"
      ]
    },
    {
      "cell_type": "markdown",
      "metadata": {
        "id": "c-Tu4SKIUyxQ"
      },
      "source": [
        "# Model"
      ]
    },
    {
      "cell_type": "markdown",
      "source": [
        "## Load from checkpoint"
      ],
      "metadata": {
        "id": "h80ag5VsSTZ1"
      }
    },
    {
      "cell_type": "code",
      "source": [
        "from google.colab import drive\n",
        "drive.mount(\"/content/drive\")"
      ],
      "metadata": {
        "id": "2cSF_jEqUyxR"
      },
      "execution_count": null,
      "outputs": []
    },
    {
      "cell_type": "code",
      "execution_count": null,
      "metadata": {
        "id": "5Chp84ebUyxS"
      },
      "outputs": [],
      "source": [
        "model = torch.load(\"/content/drive/MyDrive/model.pt\", map_location=torch.device('cpu'))"
      ]
    },
    {
      "cell_type": "markdown",
      "source": [
        "## Freeze layers"
      ],
      "metadata": {
        "id": "_Gi1bn8BSfdu"
      }
    },
    {
      "cell_type": "code",
      "source": [
        "model.segmentation_head[0].out_channels = NUM_CLASSES"
      ],
      "metadata": {
        "id": "D8a6OcdtUyxS"
      },
      "execution_count": null,
      "outputs": []
    },
    {
      "cell_type": "code",
      "execution_count": null,
      "metadata": {
        "id": "HtF0LVxjUyxT"
      },
      "outputs": [],
      "source": [
        "for param in model.encoder.parameters():\n",
        "    param.requires_grad = False"
      ]
    },
    {
      "cell_type": "code",
      "execution_count": null,
      "metadata": {
        "id": "X5qOMJmrUyxT"
      },
      "outputs": [],
      "source": [
        "# We view our model again to check if the encoder layers freeze.\n",
        "summary(model = model,\n",
        "        input_size = [64, 3, 224, 224],\n",
        "        col_width = 15,\n",
        "        col_names = ['input_size', 'output_size', 'num_params', 'trainable'],\n",
        "        row_settings = ['var_names'])"
      ]
    },
    {
      "cell_type": "markdown",
      "source": [
        "## Train"
      ],
      "metadata": {
        "id": "v0lYGw0oSsvt"
      }
    },
    {
      "cell_type": "code",
      "execution_count": null,
      "metadata": {
        "id": "oDkSnRcqUyxT"
      },
      "outputs": [],
      "source": [
        "loss_fn = nn.CrossEntropyLoss()\n",
        "optimizer = optim.Adam(model.parameters(), lr = 0.001, weight_decay = 0.0001)"
      ]
    },
    {
      "cell_type": "code",
      "execution_count": null,
      "metadata": {
        "id": "484fn4MpUyxU"
      },
      "outputs": [],
      "source": [
        "# Training!!!\n",
        "\n",
        "SEED = 42\n",
        "EPOCHS = 10\n",
        "torch.cuda.manual_seed(SEED)\n",
        "torch.manual_seed(SEED)\n",
        "\n",
        "RESULTS = train(model.to(device = DEVICE),\n",
        "                train_dataloader,\n",
        "                loss_fn,\n",
        "                optimizer,\n",
        "                EPOCHS)"
      ]
    },
    {
      "cell_type": "markdown",
      "source": [
        "## Save"
      ],
      "metadata": {
        "id": "H60t05vYSp1X"
      }
    },
    {
      "cell_type": "code",
      "execution_count": null,
      "metadata": {
        "id": "wQEqplJwUyxU"
      },
      "outputs": [],
      "source": [
        "!mkdir /content/checkpoints"
      ]
    },
    {
      "cell_type": "code",
      "execution_count": null,
      "metadata": {
        "id": "p6rYA7JoUyxU"
      },
      "outputs": [],
      "source": [
        "torch.save(model.state_dict(), \"/content/checkpoints/model.pth\")"
      ]
    },
    {
      "cell_type": "markdown",
      "metadata": {
        "id": "GqXaV84MKLps"
      },
      "source": [
        "# Evaluation"
      ]
    },
    {
      "cell_type": "code",
      "execution_count": null,
      "metadata": {
        "id": "vyp9IhschWog"
      },
      "outputs": [],
      "source": [
        "image_path_val = \"/content/mseg/test/images\"\n",
        "mask_path_val = \"/content/mseg/test/masks\"\n",
        "\n",
        "IMAGE_PATH_LIST_VAL, MASK_PATH_LIST_VAL = image_mask_path(image_path_val,\n",
        "                                                          mask_path_val)\n",
        "\n",
        "print(f'Total Images Val: {len(IMAGE_PATH_LIST_VAL)}')\n",
        "print(f'Total Masks Val: {len(MASK_PATH_LIST_VAL)}')"
      ]
    },
    {
      "cell_type": "code",
      "execution_count": null,
      "metadata": {
        "id": "u163iDuFhlci"
      },
      "outputs": [],
      "source": [
        "data_val = pd.DataFrame({'Image':IMAGE_PATH_LIST_VAL,\n",
        "                         'Mask':MASK_PATH_LIST_VAL})\n",
        "val_dataset = CustomImageMaskDataset(data_val, image_transforms_test,\n",
        "                                     mask_transforms_test)\n",
        "val_dataloader = DataLoader(dataset = val_dataset, batch_size = BATCH_SIZE,\n",
        "                            shuffle = True, num_workers = NUM_WORKERS)"
      ]
    },
    {
      "cell_type": "code",
      "source": [
        "# Num of batches, which will be used for evaluation\n",
        "BATCH_TO_TEST = 2"
      ],
      "metadata": {
        "id": "AUGxKHkBPxpw"
      },
      "execution_count": null,
      "outputs": []
    },
    {
      "cell_type": "code",
      "execution_count": null,
      "metadata": {
        "id": "Xpf_Frd3gwg8"
      },
      "outputs": [],
      "source": [
        "test_dice = 0.\n",
        "\n",
        "with torch.inference_mode():\n",
        "    for batch, (X, y) in tqdm(enumerate(val_dataloader), total=BATCH_TO_TEST):\n",
        "        if batch >= BATCH_TO_TEST:\n",
        "            break\n",
        "\n",
        "        X = X.to(device = DEVICE, dtype = torch.float32)\n",
        "        y = y.to(device = DEVICE, dtype = torch.long)\n",
        "\n",
        "        logit_mask = model(X)\n",
        "\n",
        "        prob_mask = logit_mask.softmax(dim = 1)\n",
        "        pred_mask = prob_mask.argmax(dim = 1)\n",
        "\n",
        "        tp, fp, fn, tn = smp.metrics.get_stats(output = pred_mask.detach().cpu().long(),\n",
        "                                                target = y.squeeze().cpu().long(),\n",
        "                                                mode = \"multiclass\",\n",
        "                                                num_classes = 3)\n",
        "\n",
        "        test_dice += smp.metrics.f1_score(tp, fp, fn, tn, reduction = \"micro\").numpy()\n",
        "\n",
        "test_dice /= BATCH_TO_TEST"
      ]
    },
    {
      "cell_type": "code",
      "execution_count": null,
      "metadata": {
        "id": "ikwU0k9WmSSp"
      },
      "outputs": [],
      "source": [
        "test_dice"
      ]
    }
  ],
  "metadata": {
    "colab": {
      "collapsed_sections": [
        "MX9bllopO3RM",
        "5Dcnue0yRFKp"
      ],
      "provenance": [],
      "toc_visible": true
    },
    "kaggle": {
      "accelerator": "nvidiaTeslaT4",
      "dataSources": [
        {
          "datasetId": 4222901,
          "sourceId": 7307909,
          "sourceType": "datasetVersion"
        }
      ],
      "dockerImageVersionId": 30627,
      "isGpuEnabled": true,
      "isInternetEnabled": true,
      "language": "python",
      "sourceType": "notebook"
    },
    "kernelspec": {
      "display_name": "Python 3",
      "name": "python3"
    },
    "language_info": {
      "codemirror_mode": {
        "name": "ipython",
        "version": 3
      },
      "file_extension": ".py",
      "mimetype": "text/x-python",
      "name": "python",
      "nbconvert_exporter": "python",
      "pygments_lexer": "ipython3",
      "version": "3.10.12"
    }
  },
  "nbformat": 4,
  "nbformat_minor": 0
}